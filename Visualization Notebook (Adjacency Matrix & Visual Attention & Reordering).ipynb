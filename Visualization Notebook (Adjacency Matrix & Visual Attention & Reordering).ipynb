{
 "cells": [
  {
   "cell_type": "code",
   "execution_count": 1,
   "metadata": {},
   "outputs": [],
   "source": [
    "import numpy as np\n",
    "from itertools import chain, combinations\n",
    "import matplotlib.cbook as cbook\n",
    "from collections import OrderedDict\n",
    "from collections import namedtuple\n",
    "import itertools\n",
    "#from PIL import Image\n",
    "import pandas as pd\n",
    "import matplotlib.pyplot as plt\n",
    "import seaborn as sns  # also improves the look of plots\n",
    "plt.rcParams['lines.markeredgewidth'] = 1  # to fix issue with seaborn box plots; needed after import seaborn\n",
    "# next command ensures that plots appear inside the notebook\n",
    "%matplotlib inline"
   ]
  },
  {
   "cell_type": "code",
   "execution_count": 2,
   "metadata": {},
   "outputs": [],
   "source": [
    "file_name = 'all_fixation_data_extra_cleaned_up.csv'\n",
    "fixation_data = pd.read_csv(file_name, sep = ';')\n",
    "fixation_data = fixation_data.rename(columns={'y': 'StimuliName'})\n",
    "fixation_data = fixation_data.drop('FixationIndex', 1)"
   ]
  },
  {
   "cell_type": "code",
   "execution_count": 3,
   "metadata": {},
   "outputs": [
    {
     "data": {
      "text/html": [
       "<div>\n",
       "<style>\n",
       "    .dataframe thead tr:only-child th {\n",
       "        text-align: right;\n",
       "    }\n",
       "\n",
       "    .dataframe thead th {\n",
       "        text-align: left;\n",
       "    }\n",
       "\n",
       "    .dataframe tbody tr th {\n",
       "        vertical-align: top;\n",
       "    }\n",
       "</style>\n",
       "<table border=\"1\" class=\"dataframe\">\n",
       "  <thead>\n",
       "    <tr style=\"text-align: right;\">\n",
       "      <th></th>\n",
       "      <th>Timestamp</th>\n",
       "      <th>StimuliName</th>\n",
       "      <th>FixationDuration</th>\n",
       "      <th>MappedFixationPointX</th>\n",
       "      <th>MappedFixationPointY</th>\n",
       "      <th>user</th>\n",
       "      <th>description</th>\n",
       "    </tr>\n",
       "  </thead>\n",
       "  <tbody>\n",
       "    <tr>\n",
       "      <th>0</th>\n",
       "      <td>2586</td>\n",
       "      <td>01_Antwerpen_S1.jpg</td>\n",
       "      <td>250</td>\n",
       "      <td>1151</td>\n",
       "      <td>458</td>\n",
       "      <td>p1</td>\n",
       "      <td>color</td>\n",
       "    </tr>\n",
       "    <tr>\n",
       "      <th>1</th>\n",
       "      <td>2836</td>\n",
       "      <td>01_Antwerpen_S1.jpg</td>\n",
       "      <td>150</td>\n",
       "      <td>1371</td>\n",
       "      <td>316</td>\n",
       "      <td>p1</td>\n",
       "      <td>color</td>\n",
       "    </tr>\n",
       "    <tr>\n",
       "      <th>2</th>\n",
       "      <td>2986</td>\n",
       "      <td>01_Antwerpen_S1.jpg</td>\n",
       "      <td>283</td>\n",
       "      <td>1342</td>\n",
       "      <td>287</td>\n",
       "      <td>p1</td>\n",
       "      <td>color</td>\n",
       "    </tr>\n",
       "    <tr>\n",
       "      <th>3</th>\n",
       "      <td>3269</td>\n",
       "      <td>01_Antwerpen_S1.jpg</td>\n",
       "      <td>433</td>\n",
       "      <td>762</td>\n",
       "      <td>303</td>\n",
       "      <td>p1</td>\n",
       "      <td>color</td>\n",
       "    </tr>\n",
       "    <tr>\n",
       "      <th>4</th>\n",
       "      <td>3702</td>\n",
       "      <td>01_Antwerpen_S1.jpg</td>\n",
       "      <td>183</td>\n",
       "      <td>624</td>\n",
       "      <td>297</td>\n",
       "      <td>p1</td>\n",
       "      <td>color</td>\n",
       "    </tr>\n",
       "  </tbody>\n",
       "</table>\n",
       "</div>"
      ],
      "text/plain": [
       "   Timestamp          StimuliName  FixationDuration  MappedFixationPointX  \\\n",
       "0       2586  01_Antwerpen_S1.jpg               250                  1151   \n",
       "1       2836  01_Antwerpen_S1.jpg               150                  1371   \n",
       "2       2986  01_Antwerpen_S1.jpg               283                  1342   \n",
       "3       3269  01_Antwerpen_S1.jpg               433                   762   \n",
       "4       3702  01_Antwerpen_S1.jpg               183                   624   \n",
       "\n",
       "   MappedFixationPointY user description  \n",
       "0                   458   p1       color  \n",
       "1                   316   p1       color  \n",
       "2                   287   p1       color  \n",
       "3                   303   p1       color  \n",
       "4                   297   p1       color  "
      ]
     },
     "execution_count": 3,
     "metadata": {},
     "output_type": "execute_result"
    }
   ],
   "source": [
    "fixation_data.head()"
   ]
  },
  {
   "cell_type": "code",
   "execution_count": 4,
   "metadata": {
    "collapsed": true
   },
   "outputs": [],
   "source": [
    "#Only Antwerpen metro map\n",
    "fixation_antwerp = fixation_data.loc[fixation_data['StimuliName'] == '01_Antwerpen_S1.jpg']"
   ]
  },
  {
   "cell_type": "code",
   "execution_count": 5,
   "metadata": {
    "collapsed": true
   },
   "outputs": [],
   "source": [
    "maximum = fixation_antwerp.groupby(['user']).max()\n",
    "minimum = fixation_antwerp.groupby(['user']).min()"
   ]
  },
  {
   "cell_type": "code",
   "execution_count": 6,
   "metadata": {
    "collapsed": true
   },
   "outputs": [],
   "source": [
    "users = fixation_antwerp['user'].tolist()\n",
    "users = list(OrderedDict.fromkeys(users))"
   ]
  },
  {
   "cell_type": "code",
   "execution_count": 7,
   "metadata": {
    "collapsed": true
   },
   "outputs": [],
   "source": [
    "bb = [] # Bouding box\n",
    "for user in users:\n",
    "    bb.append([(minimum['MappedFixationPointX'][user], minimum['MappedFixationPointY'][user]), \n",
    "               (minimum['MappedFixationPointX'][user], maximum['MappedFixationPointY'][user]),\n",
    "               (maximum['MappedFixationPointX'][user], minimum['MappedFixationPointY'][user]),\n",
    "               (maximum['MappedFixationPointX'][user], maximum['MappedFixationPointY'][user]),])"
   ]
  },
  {
   "cell_type": "code",
   "execution_count": 8,
   "metadata": {
    "collapsed": true
   },
   "outputs": [],
   "source": [
    "def area(a, b):  # returns None if rectangles don't intersect\n",
    "    dx = min(a.xmax, b.xmax) - max(a.xmin, b.xmin)\n",
    "    dy = min(a.ymax, b.ymax) - max(a.ymin, b.ymin)\n",
    "    if (dx>=0) and (dy>=0):\n",
    "        return dx*dy"
   ]
  },
  {
   "cell_type": "code",
   "execution_count": 9,
   "metadata": {
    "collapsed": true
   },
   "outputs": [],
   "source": [
    "Rectangle = namedtuple('Rectangle', 'xmin ymin xmax ymax')\n",
    "areas = []\n",
    "\n",
    "for user in users:\n",
    "    index = users.index(user)\n",
    "    next_index = 0\n",
    "    ra = Rectangle(minimum['MappedFixationPointX'][index], minimum['MappedFixationPointY'][index], maximum['MappedFixationPointX'][index], maximum['MappedFixationPointY'][index])\n",
    "    for next_index in range(len(users)):\n",
    "        if next_index < len(users):\n",
    "            rb = Rectangle(minimum['MappedFixationPointX'][next_index], minimum['MappedFixationPointY'][next_index], maximum['MappedFixationPointX'][next_index], maximum['MappedFixationPointY'][next_index])\n",
    "            areas.append(area(ra, rb))\n",
    "            next_index = next_index + 1\n",
    "        else:\n",
    "            break\n"
   ]
  },
  {
   "cell_type": "code",
   "execution_count": 10,
   "metadata": {
    "collapsed": true
   },
   "outputs": [],
   "source": [
    "aou = [] # Area of union\n",
    "for user in users:\n",
    "    index = users.index(user)\n",
    "    next_index = 0\n",
    "    ra = (maximum['MappedFixationPointX'][index]-minimum['MappedFixationPointX'][index]) * (maximum['MappedFixationPointY'][index]-minimum['MappedFixationPointY'][index]) \n",
    "    for next_index in range(len(users)):\n",
    "            if next_index < len(users):\n",
    "                rb = (maximum['MappedFixationPointX'][next_index]-minimum['MappedFixationPointX'][next_index]) * (maximum['MappedFixationPointY'][next_index]-minimum['MappedFixationPointY'][next_index]) \n",
    "                aou.append(ra+rb)\n",
    "                next_index = next_index + 1\n",
    "            else:\n",
    "                break"
   ]
  },
  {
   "cell_type": "code",
   "execution_count": 11,
   "metadata": {},
   "outputs": [],
   "source": [
    "aou = [aou_i - areas_i for aou_i, areas_i in zip(aou, areas)]"
   ]
  },
  {
   "cell_type": "code",
   "execution_count": 12,
   "metadata": {},
   "outputs": [],
   "source": [
    "roi = [areas_i / aou_i for areas_i, aou_i in zip(areas, aou)]"
   ]
  },
  {
   "cell_type": "code",
   "execution_count": 13,
   "metadata": {
    "collapsed": true
   },
   "outputs": [],
   "source": [
    "roi = np.array(roi)\n",
    "shape = (20,20)\n",
    "roi = roi.reshape(shape)"
   ]
  },
  {
   "cell_type": "code",
   "execution_count": 14,
   "metadata": {},
   "outputs": [
    {
     "data": {
      "image/png": "[encoded data removed]",
      "text/plain": [
       "<matplotlib.figure.Figure at 0x22a4f7e6f98>"
      ]
     },
     "metadata": {},
     "output_type": "display_data"
    }
   ],
   "source": [
    "from matplotlib.ticker import FormatStrFormatter\n",
    "from matplotlib.ticker import MaxNLocator\n",
    "\n",
    "plt.rcParams['figure.figsize'] = [10, 5] #Define plot size\n",
    "plt.imshow(roi, cmap = 'hot_r') #Make the plot with color coding hot reversed\n",
    "ax = plt.gca()\n",
    "ax.yaxis.set_major_locator(MaxNLocator(integer=True)) #Change y-axis values to integers\n",
    "ax.xaxis.set_major_locator(MaxNLocator(integer=True)) #Change x-axis values to integers\n",
    "ax.xaxis.tick_top() #Move x-axis to top of the plot\n",
    "plt.colorbar(orientation='vertical') #Make the vertical color indication on the right\n",
    "plt.show()"
   ]
  },
  {
   "cell_type": "markdown",
   "metadata": {
    "collapsed": true
   },
   "source": [
    "## Visual Attention Map##"
   ]
  },
  {
   "cell_type": "code",
   "execution_count": 15,
   "metadata": {},
   "outputs": [
    {
     "ename": "ImportError",
     "evalue": "DLL load failed: The specified module could not be found.",
     "output_type": "error",
     "traceback": [
      "\u001b[1;31m---------------------------------------------------------------------------\u001b[0m",
      "\u001b[1;31mImportError\u001b[0m                               Traceback (most recent call last)",
      "\u001b[1;32m<ipython-input-15-0f6709e38f49>\u001b[0m in \u001b[0;36m<module>\u001b[1;34m()\u001b[0m\n\u001b[1;32m----> 1\u001b[1;33m \u001b[1;32mfrom\u001b[0m \u001b[0mPIL\u001b[0m \u001b[1;32mimport\u001b[0m \u001b[0mImage\u001b[0m\u001b[1;33m\u001b[0m\u001b[0m\n\u001b[0m",
      "\u001b[1;32m~\\AppData\\Local\\Continuum\\anaconda3\\lib\\site-packages\\PIL\\Image.py\u001b[0m in \u001b[0;36m<module>\u001b[1;34m()\u001b[0m\n\u001b[0;32m     54\u001b[0m     \u001b[1;31m# Also note that Image.core is not a publicly documented interface,\u001b[0m\u001b[1;33m\u001b[0m\u001b[1;33m\u001b[0m\u001b[0m\n\u001b[0;32m     55\u001b[0m     \u001b[1;31m# and should be considered private and subject to change.\u001b[0m\u001b[1;33m\u001b[0m\u001b[1;33m\u001b[0m\u001b[0m\n\u001b[1;32m---> 56\u001b[1;33m     \u001b[1;32mfrom\u001b[0m \u001b[1;33m.\u001b[0m \u001b[1;32mimport\u001b[0m \u001b[0m_imaging\u001b[0m \u001b[1;32mas\u001b[0m \u001b[0mcore\u001b[0m\u001b[1;33m\u001b[0m\u001b[0m\n\u001b[0m\u001b[0;32m     57\u001b[0m     \u001b[1;32mif\u001b[0m \u001b[0mPILLOW_VERSION\u001b[0m \u001b[1;33m!=\u001b[0m \u001b[0mgetattr\u001b[0m\u001b[1;33m(\u001b[0m\u001b[0mcore\u001b[0m\u001b[1;33m,\u001b[0m \u001b[1;34m'PILLOW_VERSION'\u001b[0m\u001b[1;33m,\u001b[0m \u001b[1;32mNone\u001b[0m\u001b[1;33m)\u001b[0m\u001b[1;33m:\u001b[0m\u001b[1;33m\u001b[0m\u001b[0m\n\u001b[0;32m     58\u001b[0m         raise ImportError(\"The _imaging extension was built for another \"\n",
      "\u001b[1;31mImportError\u001b[0m: DLL load failed: The specified module could not be found."
     ]
    }
   ],
   "source": [
    "from PIL import Image"
   ]
  },
  {
   "cell_type": "code",
   "execution_count": 16,
   "metadata": {
    "collapsed": true
   },
   "outputs": [],
   "source": [
    "X = fixation_antwerp['MappedFixationPointX']\n",
    "Y = fixation_antwerp['MappedFixationPointY']"
   ]
  },
  {
   "cell_type": "code",
   "execution_count": 17,
   "metadata": {},
   "outputs": [
    {
     "ename": "NameError",
     "evalue": "name 'Image' is not defined",
     "output_type": "error",
     "traceback": [
      "\u001b[1;31m---------------------------------------------------------------------------\u001b[0m",
      "\u001b[1;31mNameError\u001b[0m                                 Traceback (most recent call last)",
      "\u001b[1;32m<ipython-input-17-36067833e35d>\u001b[0m in \u001b[0;36m<module>\u001b[1;34m()\u001b[0m\n\u001b[1;32m----> 1\u001b[1;33m \u001b[0mim\u001b[0m \u001b[1;33m=\u001b[0m \u001b[0mImage\u001b[0m\u001b[1;33m.\u001b[0m\u001b[0mopen\u001b[0m\u001b[1;33m(\u001b[0m\u001b[1;34m'01_Antwerpen_S1.jpg'\u001b[0m\u001b[1;33m)\u001b[0m\u001b[1;33m\u001b[0m\u001b[0m\n\u001b[0m\u001b[0;32m      2\u001b[0m \u001b[0msns\u001b[0m\u001b[1;33m.\u001b[0m\u001b[0mkdeplot\u001b[0m\u001b[1;33m(\u001b[0m\u001b[0mX\u001b[0m\u001b[1;33m,\u001b[0m \u001b[0mY\u001b[0m\u001b[1;33m)\u001b[0m\u001b[1;33m\u001b[0m\u001b[0m\n\u001b[0;32m      3\u001b[0m \u001b[0mplt\u001b[0m\u001b[1;33m.\u001b[0m\u001b[0mimshow\u001b[0m\u001b[1;33m(\u001b[0m\u001b[0mim\u001b[0m\u001b[1;33m,\u001b[0m \u001b[0mzorder\u001b[0m\u001b[1;33m=\u001b[0m\u001b[1;36m0\u001b[0m\u001b[1;33m)\u001b[0m\u001b[1;33m\u001b[0m\u001b[0m\n\u001b[0;32m      4\u001b[0m \u001b[0mplt\u001b[0m\u001b[1;33m.\u001b[0m\u001b[0mshow\u001b[0m\u001b[1;33m(\u001b[0m\u001b[1;33m)\u001b[0m\u001b[1;33m\u001b[0m\u001b[0m\n",
      "\u001b[1;31mNameError\u001b[0m: name 'Image' is not defined"
     ]
    }
   ],
   "source": [
    "im = Image.open('01_Antwerpen_S1.jpg')\n",
    "sns.kdeplot(X, Y)\n",
    "plt.imshow(im, zorder=0)\n",
    "plt.show()"
   ]
  },
  {
   "cell_type": "markdown",
   "metadata": {},
   "source": [
    "## Matrix Reordering##"
   ]
  },
  {
   "cell_type": "code",
   "execution_count": 22,
   "metadata": {},
   "outputs": [
    {
     "data": {
      "image/png": "[encoded data removed]",
      "text/plain": [
       "<matplotlib.figure.Figure at 0x22a509e9630>"
      ]
     },
     "metadata": {},
     "output_type": "display_data"
    }
   ],
   "source": [
    "plt.rcParams['figure.figsize'] = [10, 5] #Define plot size\n",
    "plt.imshow(roi, cmap = 'hot_r') #Make the plot with color coding hot. for reversed write hot_r\n",
    "#ax = plt.gca()\n",
    "#ax.yaxis.set_major_locator(MaxNLocator(integer=True)) #Change y-axis values to integers\n",
    "#ax.xaxis.set_major_locator(MaxNLocator(integer=True)) #Change x-axis values to integers\n",
    "#ax.xaxis.tick_top() #Move x-axis to top of the plot\n",
    "#plt.colorbar(orientation='vertical') #Make the vertical color indication on the right\n",
    "plt.show()"
   ]
  },
  {
   "cell_type": "code",
   "execution_count": 19,
   "metadata": {
    "collapsed": true
   },
   "outputs": [],
   "source": [
    "from sklearn.datasets import make_checkerboard\n",
    "from sklearn.datasets import samples_generator as sg\n",
    "from sklearn.cluster.bicluster import SpectralBiclustering \n",
    "from sklearn.metrics import consensus_score"
   ]
  },
  {
   "cell_type": "code",
   "execution_count": 28,
   "metadata": {},
   "outputs": [
    {
     "data": {
      "text/plain": [
       "<function matplotlib.pyplot.show>"
      ]
     },
     "execution_count": 28,
     "metadata": {},
     "output_type": "execute_result"
    },
    {
     "data": {
      "image/png": "[encoded data removed]",
      "text/plain": [
       "<matplotlib.figure.Figure at 0x22a50bf2128>"
      ]
     },
     "metadata": {},
     "output_type": "display_data"
    },
    {
     "data": {
      "image/png": "[encoded data removed]",
      "text/plain": [
       "<matplotlib.figure.Figure at 0x22a50bf2438>"
      ]
     },
     "metadata": {},
     "output_type": "display_data"
    },
    {
     "data": {
      "image/png": "[encoded data removed]",
      "text/plain": [
       "<matplotlib.figure.Figure at 0x22a50c902e8>"
      ]
     },
     "metadata": {},
     "output_type": "display_data"
    },
    {
     "data": {
      "image/png": "[encoded data removed]",
      "text/plain": [
       "<matplotlib.figure.Figure at 0x22a505624a8>"
      ]
     },
     "metadata": {},
     "output_type": "display_data"
    }
   ],
   "source": [
    "n_clusters = (4,3)\n",
    "data, rows, columns = roi,20,20\n",
    "\n",
    "plt.matshow(data, cmap=\"hot_r\")\n",
    "plt.title(\"Original dataset\")\n",
    "\n",
    "data, row_idx, col_idx = sg._shuffle(data, random_state=0)\n",
    "plt.matshow(data, cmap=\"hot_r\")\n",
    "plt.title(\"Shuffle dataset\")\n",
    "\n",
    "model = SpectralBiclustering(n_clusters=n_clusters, method='log', random_state=0)\n",
    "model.fit(data)\n",
    "#score = consensus_score(model.biclusters_, (rows[:, row_idx], columns[:, col_idx]))\n",
    "\n",
    "#print(\"consensus score: {:.1f}\".format(score))\n",
    "\n",
    "fit_data = data[np.argsort(model.row_labels_)]\n",
    "fit_data = fit_data[:, np.argsort(model.column_labels_)]\n",
    "\n",
    "plt.matshow(fit_data, cmap= \"hot_r\")\n",
    "plt.title(\"After biclustering: rearranged to show biclusters\")\n",
    "\n",
    "plt.matshow(np.outer(np.sort(model.row_labels_) + 1,\n",
    "                    np.sort(model.column_labels_) + 1),\n",
    "           cmap=\"hot_r\")\n",
    "plt.title(\"Checkerboard structure of rearranged data\")\n",
    "plt.show"
   ]
  },
  {
   "cell_type": "code",
   "execution_count": null,
   "metadata": {
    "collapsed": true
   },
   "outputs": [],
   "source": []
  }
 ],
 "metadata": {
  "kernelspec": {
   "display_name": "Python 3",
   "language": "python",
   "name": "python3"
  },
  "language_info": {
   "codemirror_mode": {
    "name": "ipython",
    "version": 3
   },
   "file_extension": ".py",
   "mimetype": "text/x-python",
   "name": "python",
   "nbconvert_exporter": "python",
   "pygments_lexer": "ipython3",
   "version": "3.6.3"
  }
 },
 "nbformat": 4,
 "nbformat_minor": 2
}
